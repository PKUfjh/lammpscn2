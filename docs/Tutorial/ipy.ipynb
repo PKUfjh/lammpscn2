{
 "cells": [
  {
   "cell_type": "markdown",
   "metadata": {},
   "source": [
    "# 使用lammps的python接口\n",
    "\n",
    "除了通过读取lammps脚本的方式开始lammps任务，也可以通过python调用lammps，从而进行快速的概念验证。LAMMPS 发行版包含一个python目录，其中包含从Python运行LAMMPS所需的Python代码。该模块封装了lammps的`c`接口。该模块使得可以从Python或交互式的`IPython`执行以下操作：\n",
    "\n",
    "* 创建一个或多个 LAMMPS 实例\n",
    "* 调用 LAMMPS 命令或从输入脚本读取它们\n",
    "* 增量运行 LAMMPS\n",
    "* 提取 LAMMPS 结果\n",
    "* 修改内部 LAMMPS 数据结构"
   ]
  },
  {
   "cell_type": "markdown",
   "metadata": {},
   "source": [
    "LAMMPS 可以与 Python 以三种不同方式协同工作。首先，Python 可以利用其 ctypes 接口与 LAMMPS 的 C API 进行对接，从而使 Python 脚本能够创建 LAMMPS 实例并启动模拟。这种方法被称为使用 LAMMPS 模块来“扩展” Python 的功能。\n",
    "![](https://docs.lammps.org/_images/python-invoke-lammps.png)"
   ]
  },
  {
   "cell_type": "markdown",
   "metadata": {},
   "source": [
    "其次，还提供了 `pylammps` 类，这是一个用 Python 编写的类，为常见的 LAMMPS 功能提供了更多基于对象的接口，以简化在 Python 中使用 LAMMPS 的过程。这个类还大大减少了需要编写参数化 LAMMPS 脚本的代码量，同时也让变量和计算能够被直接访问。\n",
    "![](https://docs.lammps.org/_images/pylammps-invoke-lammps.png)"
   ]
  },
  {
   "cell_type": "markdown",
   "metadata": {},
   "source": [
    "第三，LAMMPS 可以与 Python 解释器协同工作，这使得 LAMMPS 输入脚本或样式能够直接调用 Python 代码，并在输入脚本和您编写的 Python 函数之间进行信息交互。通过上面提到的 LAMMPS Python 模块，这段 Python 代码还可以回调 LAMMPS 以查询或更改其属性。从 Python 的角度来看，这被称为将 Python \"嵌入\" 到 LAMMPS 中。在这种模式下，Python 具备执行复杂操作，这是常规 LAMMPS 输入脚本语法无法实现的。\n",
    "![](https://docs.lammps.org/_images/lammps-invoke-python.png)"
   ]
  }
 ],
 "metadata": {
  "language_info": {
   "name": "python"
  },
  "orig_nbformat": 4
 },
 "nbformat": 4,
 "nbformat_minor": 2
}
